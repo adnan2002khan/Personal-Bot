{
 "cells": [
  {
   "cell_type": "markdown",
   "metadata": {},
   "source": [
    "# PROJECT DESCRIPTION\n",
    "\n",
    "## Introduction\n",
    "\n",
    "This is a personal project I am going to be making that will be focussing on doing menial browsing tasks and retrieve data from online forums for me. This is a direct inspiration from John Fish's project on [GitHub](https://github.com/johnafish/personal_bot).\n",
    "\n",
    "## Methodology\n",
    "\n",
    "I want this project to be a practice for working with modules and packages. For that, I am going to be resorting to using traditional .py style files (modules apparently) and learning how to make packages and access them using class hierarchy system in python. This will allow me to learn a proper project workflow I believe. \n",
    "\n",
    "## Tasks\n",
    "\n",
    "The bot (Jarvis) will do a few tasks for me which are still being decided upon. These tasks may be -: finding any recent followers I have gained on Twitter, listing new notifications on Twitter, finding if I have received any new emails (on multiple emails), finding out things from github, finding if any new blogs have been posted on some I follow, and probably more. First, I need to get started!. \n",
    "\n",
    "## Commitment\n",
    "\n",
    "I am in senior year of high school, still I believe that I can find enough time in one day to spend in programming. For programming is not a task or a burden for me, it is a strong passion I plan to pursue. **Therefore, I will be attempting to make at least 1 commit per day on this project**, on GitHub of course.\n",
    "\n",
    "## Links\n",
    "\n",
    "1. John Fish's project - [https://github.com/johnafish/personal_bot](https://github.com/johnafish/personal_bot)\n",
    "2. My Project on GitHub - [https://github.com/ramanshsharma2806/PersonalBot](https://github.com/ramanshsharma2806/PersonalBot)\n",
    "3. My learning resource - [https://www.pythonlikeyoumeanit.com/](https://www.pythonlikeyoumeanit.com/)\n",
    "4. Modules and packages learning - [Modules lesson website](https://www.internalpointers.com/post/modules-and-packages-create-python-project)\n",
    "\n",
    "###### Note: This jupyter notebook will be used for running the main python module and testing other modules by importing them (when any module is imported, it is ran completely in the place where it is run)."
   ]
  },
  {
   "cell_type": "code",
   "execution_count": 2,
   "metadata": {},
   "outputs": [
    {
     "name": "stdout",
     "output_type": "stream",
     "text": [
      "The autoreload extension is already loaded. To reload it, use:\n",
      "  %reload_ext autoreload\n"
     ]
    }
   ],
   "source": [
    "# Executing these “magic commands” will inform your notebook to actively reload all imported\n",
    "# modules and packages as they are modified. If you do not execute these commands, your notebook\n",
    "# will not “see” any changes that you have made to a module that has already been imported, unless \n",
    "# you restart the kernel for that notebook.\n",
    "\n",
    "%load_ext autoreload\n",
    "%autoreload 2\n",
    "\n",
    "import Py1"
   ]
  },
  {
   "cell_type": "code",
   "execution_count": null,
   "metadata": {
    "collapsed": true
   },
   "outputs": [],
   "source": []
  }
 ],
 "metadata": {
  "kernelspec": {
   "display_name": "Python 3",
   "language": "python",
   "name": "python3"
  },
  "language_info": {
   "codemirror_mode": {
    "name": "ipython",
    "version": 3
   },
   "file_extension": ".py",
   "mimetype": "text/x-python",
   "name": "python",
   "nbconvert_exporter": "python",
   "pygments_lexer": "ipython3",
   "version": "3.6.6"
  }
 },
 "nbformat": 4,
 "nbformat_minor": 2
}
