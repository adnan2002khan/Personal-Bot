{
 "cells": [
  {
   "cell_type": "markdown",
   "metadata": {
    "slideshow": {
     "slide_type": "slide"
    }
   },
   "source": [
    "# PROJECT DESCRIPTION\n",
    "\n",
    "## Introduction\n",
    "\n",
    "This is a personal project I am going to be making that will be focussing on doing menial browsing tasks and retrieve data from online forums for me. This is a direct inspiration from John Fish's project on [GitHub](https://github.com/johnafish/personal_bot).\n",
    "\n",
    "## Methodology\n",
    "\n",
    "I want this project to be a practice for working with modules and packages. For that, I am going to be resorting to using traditional .py style files (modules apparently) and learning how to make packages and access them using class hierarchy system in python. This will allow me to learn a proper project workflow I believe. \n",
    "\n",
    "## Tasks\n",
    "\n",
    "The bot (Jarvis) will do a few tasks for me which are still being decided upon. These tasks may be -: finding any recent followers I have gained on Twitter, listing new notifications on Twitter, finding if I have received any new emails (on multiple emails), finding out things from github, finding if any new blogs have been posted on some I follow, and probably more. First, I need to get started!. \n",
    "\n",
    "## Commitment\n",
    "\n",
    "I am in senior year of high school, still I believe that I can find enough time in one day to spend in programming. For programming is not a task or a burden for me, it is a strong passion I plan to pursue. **Therefore, I will be attempting to make at least 1 commit per day on this project**, on GitHub of course.\n",
    "\n",
    "## Links\n",
    "\n",
    "1. John Fish's project - [https://github.com/johnafish/personal_bot](https://github.com/johnafish/personal_bot)\n",
    "2. My Project on GitHub - [https://github.com/ramanshsharma2806/Personal-Bot](https://github.com/ramanshsharma2806/Personal-Bot)\n",
    "3. My learning resource - [https://www.pythonlikeyoumeanit.com/](https://www.pythonlikeyoumeanit.com/)\n",
    "4. Modules and packages learning - [Modules lesson website](https://www.internalpointers.com/post/modules-and-packages-create-python-project)\n",
    "5. Resource for libraries - [Automation](https://automatetheboringstuff.com/chapter11/)\n",
    "6. Selenium Chromedriver help - [Chromedriver](https://sites.google.com/a/chromium.org/chromedriver/getting-started)\n",
    "7. Selenium API - [Source](https://selenium-python.readthedocs.io/navigating.html)\n",
    "\n",
    "###### Note: This jupyter notebook will be used for running the main python module and testing other modules by importing them (when any module is imported, it is ran completely in the place where it is imported). It will now be my practice to use a jupyter notebook and importing a module to test it out.\n",
    "\n",
    "## Importing modules\n",
    "\n",
    "\n",
    "\n",
    "\n",
    "\n",
    "I have resorted to using the nomrmal .py python files which can be easily imported into a jupyter notebook for testinf. More about Technologies in the section above.\n",
    "\n",
    "\n",
    "1. Selenium library- [documentation](https://selenium-python.readthedocs.io/navigating.html)\n",
    "2. Pandas library- [documentation](https://pandas.pydata.org/pandas-docs/stable/reference/index.html)\n"
   ]
  },
  {
   "cell_type": "code",
   "execution_count": null,
   "metadata": {
    "slideshow": {
     "slide_type": "notes"
    }
   },
   "outputs": [],
   "source": []
  },
  {
   "cell_type": "code",
   "execution_count": null,
   "metadata": {},
   "outputs": [],
   "source": []
  },
  {
   "cell_type": "code",
   "execution_count": null,
   "metadata": {},
   "outputs": [],
   "source": []
  }
 ],
 "metadata": {
  "kernelspec": {
   "display_name": "Python 3",
   "language": "python",
   "name": "python3"
  },
  "language_info": {
   "codemirror_mode": {
    "name": "ipython",
    "version": 3
   },
   "file_extension": ".py",
   "mimetype": "text/x-python",
   "name": "python",
   "nbconvert_exporter": "python",
   "pygments_lexer": "ipython3",
   "version": "3.6.8"
  }
 },
 "nbformat": 4,
 "nbformat_minor": 2
}
